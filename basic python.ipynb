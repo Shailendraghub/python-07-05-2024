{
 "cells": [
  {
   "cell_type": "code",
   "execution_count": 4,
   "id": "66193dee-e1f6-4413-b6cb-91822e82cb39",
   "metadata": {},
   "outputs": [
    {
     "name": "stdin",
     "output_type": "stream",
     "text": [
      "enter a string rajasthan\n"
     ]
    },
    {
     "name": "stdout",
     "output_type": "stream",
     "text": [
      "9\n"
     ]
    }
   ],
   "source": [
    "#without len function find total no of string\n",
    "\n",
    "a=input(\"enter a string\")\n",
    "count=0\n",
    "for char in a:\n",
    "    count+= 1\n",
    "print(count)"
   ]
  },
  {
   "cell_type": "code",
   "execution_count": 23,
   "id": "e8b4d00c-0ec5-48c9-a7e3-7e3cd71173e6",
   "metadata": {},
   "outputs": [
    {
     "name": "stdin",
     "output_type": "stream",
     "text": [
      "enter a sting hello\n"
     ]
    },
    {
     "name": "stdout",
     "output_type": "stream",
     "text": [
      "2\n"
     ]
    }
   ],
   "source": [
    "#find vowels in string\n",
    "a=input(\"enter a sting\")\n",
    "count=0\n",
    "vowels={'a','e','i','o','u'}\n",
    "for char in a:\n",
    "    if char.lower() in vowels:\n",
    "        count += 1\n",
    "print(count)"
   ]
  },
  {
   "cell_type": "code",
   "execution_count": null,
   "id": "d6943531-d464-43bc-b95d-e77b1eae2a25",
   "metadata": {},
   "outputs": [],
   "source": []
  },
  {
   "cell_type": "code",
   "execution_count": 22,
   "id": "45298ba7-20dd-4ffc-a7c3-37d731142eac",
   "metadata": {},
   "outputs": [
    {
     "name": "stdin",
     "output_type": "stream",
     "text": [
      "enter a sting hello\n"
     ]
    },
    {
     "name": "stdout",
     "output_type": "stream",
     "text": [
      "3\n"
     ]
    }
   ],
   "source": [
    "#find vowels in consonants\n",
    "a=input(\"enter a sting\")\n",
    "count=0\n",
    "vowels={'a','e','i','o','u'}\n",
    "for char in a:\n",
    "    if char.lower() not in vowels:\n",
    "        count += 1\n",
    "print(count)"
   ]
  },
  {
   "cell_type": "code",
   "execution_count": 61,
   "id": "f0372341-f806-45d4-bcb2-8a1c7274ecc6",
   "metadata": {},
   "outputs": [
    {
     "name": "stdout",
     "output_type": "stream",
     "text": [
      "98\n",
      "95\n",
      "91\n",
      "90\n",
      "85\n",
      "84\n",
      "80\n",
      "77\n",
      "75\n",
      "70\n",
      "65\n",
      "63\n",
      "60\n",
      "56\n",
      "55\n",
      "50\n",
      "49\n",
      "45\n",
      "42\n",
      "40\n",
      "35\n",
      "30\n",
      "28\n",
      "25\n",
      "21\n",
      "20\n",
      "15\n",
      "14\n",
      "10\n",
      "7\n",
      "5\n"
     ]
    }
   ],
   "source": [
    "for i in range (99,4,-1):\n",
    "     if(i%5==0 and i%7==0):\n",
    "         print(i)\n"
   ]
  },
  {
   "cell_type": "code",
   "execution_count": 60,
   "id": "eaf58776-7c41-45a1-9e86-ee1ea9a56770",
   "metadata": {},
   "outputs": [
    {
     "name": "stdout",
     "output_type": "stream",
     "text": [
      "hello\n",
      "hello\n",
      "hello\n",
      "hello\n",
      "hello\n"
     ]
    }
   ],
   "source": [
    "for i in range(5):\n",
    "    print(\"hello\")"
   ]
  },
  {
   "cell_type": "code",
   "execution_count": 66,
   "id": "a4badd9d-412f-4320-b3ff-31f003491a9e",
   "metadata": {},
   "outputs": [
    {
     "name": "stdout",
     "output_type": "stream",
     "text": [
      "* * * *  \n",
      "* * * *  \n",
      "* * * *  \n",
      "* * * *  \n"
     ]
    }
   ],
   "source": [
    "for i in range(1,5):\n",
    "\n",
    "    for k in range(1,5):\n",
    "        print(\"*\",end=\" \")\n",
    "\n",
    "    print(\" \")"
   ]
  },
  {
   "cell_type": "code",
   "execution_count": 92,
   "id": "f94aaa80-7dfd-41c0-b287-036b33a1743a",
   "metadata": {},
   "outputs": [],
   "source": [
    "for i in range(5,1):\n",
    "\n",
    "    for k in range(i):\n",
    "        \n",
    "         print(\"*\",end=\" \")\n",
    "\n",
    "    print(\" \")"
   ]
  },
  {
   "cell_type": "code",
   "execution_count": null,
   "id": "273da700-b073-4e0b-b748-3ef8be5ef119",
   "metadata": {},
   "outputs": [],
   "source": []
  },
  {
   "cell_type": "code",
   "execution_count": 85,
   "id": "79471ca3-1efb-48a7-9d14-9aa882df7296",
   "metadata": {},
   "outputs": [
    {
     "name": "stdout",
     "output_type": "stream",
     "text": [
      "4 3 2 1  \n",
      "4 3 2 1  \n",
      "4 3 2 1  \n",
      "4 3 2 1  \n"
     ]
    }
   ],
   "source": [
    "for i in range(1,5):\n",
    "\n",
    "    for k in range(4,0,-1):\n",
    "    \n",
    "         print(k,end=\" \")\n",
    "\n",
    "    print(\" \")"
   ]
  },
  {
   "cell_type": "code",
   "execution_count": 88,
   "id": "2d9b04cb-0952-4835-ac0b-75061ca6f5a5",
   "metadata": {},
   "outputs": [],
   "source": [
    "for i in range(1,0):\n",
    "\n",
    "    for k in range(1,0,1):\n",
    "    \n",
    "         print(k,end=\" \")\n",
    "\n",
    "    print(\" \")"
   ]
  },
  {
   "cell_type": "code",
   "execution_count": 101,
   "id": "9804751f-272c-4247-8d92-977fbae88e60",
   "metadata": {},
   "outputs": [
    {
     "name": "stdout",
     "output_type": "stream",
     "text": [
      "* * * *  \n",
      "* * *  \n",
      "* *  \n",
      "*  \n"
     ]
    }
   ],
   "source": [
    "for i in range(1,5):\n",
    "\n",
    "    for k in range(i,5):\n",
    "        \n",
    "         print(\"*\",end=\" \")\n",
    "\n",
    "    print(\" \")"
   ]
  },
  {
   "cell_type": "code",
   "execution_count": null,
   "id": "f0cc2ea9-d60d-43e6-94a9-b4da04abb2db",
   "metadata": {},
   "outputs": [],
   "source": []
  },
  {
   "cell_type": "code",
   "execution_count": 122,
   "id": "9d0931ff-abdb-4cc6-bc28-62baa986690d",
   "metadata": {},
   "outputs": [
    {
     "name": "stdout",
     "output_type": "stream",
     "text": [
      "$ $ $ $ * \n",
      "$ $ $ * * \n",
      "$ $ * * * \n",
      "$ * * * * \n"
     ]
    }
   ],
   "source": [
    "for i in range(1, 5):\n",
    "    for k in range(i, 5):\n",
    "        print(\"$\", end=\" \")\n",
    "    for j in range(1, i + 1):\n",
    "        print(\"*\", end=\" \")\n",
    "    print()\n"
   ]
  },
  {
   "cell_type": "code",
   "execution_count": 135,
   "id": "9d31a307-8715-4417-aa05-bf0e3604431e",
   "metadata": {},
   "outputs": [
    {
     "name": "stdout",
     "output_type": "stream",
     "text": [
      "1 \n",
      "1 2 \n",
      "1 2 3 \n",
      "1 2 3 4 \n"
     ]
    }
   ],
   "source": [
    "for i in range(1, 5):\n",
    "    for j in range(1, i + 1):\n",
    "        print(j, end=\" \")\n",
    "    print()"
   ]
  },
  {
   "cell_type": "code",
   "execution_count": 150,
   "id": "bec64404-5b7d-475b-a850-6272644c1e5b",
   "metadata": {},
   "outputs": [
    {
     "name": "stdout",
     "output_type": "stream",
     "text": [
      "1 \n",
      "2 3 \n",
      "4 5 6 \n",
      "7 8 9 10 \n"
     ]
    }
   ],
   "source": [
    "row = 1\n",
    "for i in range(1, 5):\n",
    "    for j in range(i):\n",
    "        print(row, end=\" \")\n",
    "        row += 1\n",
    "    print()\n"
   ]
  },
  {
   "cell_type": "code",
   "execution_count": null,
   "id": "410f872b-f7c5-45b7-b995-0aab34eaaec2",
   "metadata": {},
   "outputs": [],
   "source": []
  },
  {
   "cell_type": "code",
   "execution_count": 151,
   "id": "3955f1ce-95eb-449a-9e76-dd542ec242ef",
   "metadata": {},
   "outputs": [
    {
     "name": "stdout",
     "output_type": "stream",
     "text": [
      "10 \n",
      "9 8 \n",
      "7 6 5 \n",
      "4 3 2 1 \n"
     ]
    }
   ],
   "source": [
    "row = 10\n",
    "for i in range(1, 5):\n",
    "    for j in range(i):\n",
    "        print(row, end=\" \")\n",
    "        row -= 1\n",
    "    print()\n"
   ]
  },
  {
   "cell_type": "code",
   "execution_count": 162,
   "id": "926a443d-e84e-4700-9bea-decff20a1093",
   "metadata": {},
   "outputs": [
    {
     "name": "stdout",
     "output_type": "stream",
     "text": [
      "a \n",
      "a b \n",
      "a b c \n",
      "a b c d \n"
     ]
    }
   ],
   "source": [
    "for i in range(1, 5):\n",
    "    for j in range(1, i + 1):\n",
    "        print(chr(96 + j), end=\" \")\n",
    "    print()\n"
   ]
  }
 ],
 "metadata": {
  "kernelspec": {
   "display_name": "Python 3 (ipykernel)",
   "language": "python",
   "name": "python3"
  },
  "language_info": {
   "codemirror_mode": {
    "name": "ipython",
    "version": 3
   },
   "file_extension": ".py",
   "mimetype": "text/x-python",
   "name": "python",
   "nbconvert_exporter": "python",
   "pygments_lexer": "ipython3",
   "version": "3.10.11"
  }
 },
 "nbformat": 4,
 "nbformat_minor": 5
}
