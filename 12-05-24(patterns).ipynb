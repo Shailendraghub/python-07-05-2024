{
 "cells": [
  {
   "cell_type": "code",
   "execution_count": 9,
   "id": "13e1977c-6e25-4f2a-a353-e39d1d110309",
   "metadata": {
    "scrolled": true
   },
   "outputs": [
    {
     "name": "stdout",
     "output_type": "stream",
     "text": [
      "1 \n",
      "1 a 1 \n",
      "2 b 2 c 3 \n",
      "4 d 4 e 5 f 6 \n"
     ]
    }
   ],
   "source": [
    "num = 1\n",
    "char = ord('a')\n",
    "for i in range(4):\n",
    "    for j in range(i + 1):\n",
    "        if j == 0:\n",
    "            print(num, end=\" \")\n",
    "        else:\n",
    "            print(chr(char), end=\" \")\n",
    "            char += 1\n",
    "            print(num, end=\" \")\n",
    "            num += 1\n",
    "    print()\n"
   ]
  },
  {
   "cell_type": "code",
   "execution_count": 10,
   "id": "c682574e-60d2-4757-81a9-2d77217daebc",
   "metadata": {},
   "outputs": [
    {
     "name": "stdout",
     "output_type": "stream",
     "text": [
      "A \n",
      "B C \n",
      "D E F \n"
     ]
    }
   ],
   "source": [
    "char = ord('A')  \n",
    "count = 1  \n",
    "for i in range(3): \n",
    "    for j in range(count): \n",
    "        print(chr(char), end=\" \")  \n",
    "        char += 1 \n",
    "    count += 1  \n",
    "    print()"
   ]
  },
  {
   "cell_type": "code",
   "execution_count": 11,
   "id": "b51f8914-348e-482d-a7ee-53fbd68b8d09",
   "metadata": {},
   "outputs": [
    {
     "name": "stdout",
     "output_type": "stream",
     "text": [
      "A \n",
      "A B \n",
      "A B C \n",
      "A B C D \n"
     ]
    }
   ],
   "source": [
    "for i in range(4):\n",
    "    char = ord('A') \n",
    "    for j in range(i + 1):\n",
    "        print(chr(char), end=\" \") \n",
    "        char += 1\n",
    "    print()"
   ]
  },
  {
   "cell_type": "code",
   "execution_count": 12,
   "id": "c1b6c277-b503-4dd2-81e3-334f4eee0f6a",
   "metadata": {},
   "outputs": [
    {
     "name": "stdout",
     "output_type": "stream",
     "text": [
      "10 \n",
      "9 8 \n",
      "7 6 5 \n",
      "4 3 2 1 \n"
     ]
    }
   ],
   "source": [
    "num = 10\n",
    "for i in range(4):\n",
    "    for j in range(i + 1):\n",
    "        print(num, end=\" \")\n",
    "        num -= 1\n",
    "    print()"
   ]
  },
  {
   "cell_type": "code",
   "execution_count": 13,
   "id": "a939b70a-9456-4b5d-861c-e7b7c36e15a2",
   "metadata": {},
   "outputs": [
    {
     "name": "stdout",
     "output_type": "stream",
     "text": [
      "1 \n",
      "2 3 \n",
      "4 5 6 \n",
      "7 8 9 10 \n"
     ]
    }
   ],
   "source": [
    "num = 1\n",
    "for i in range(1, 5):\n",
    "    for j in range(1, i + 1):\n",
    "        print(num, end=\" \")\n",
    "        num += 1\n",
    "    print()"
   ]
  },
  {
   "cell_type": "code",
   "execution_count": 14,
   "id": "2339e499-f937-440b-b39e-f57dd9491373",
   "metadata": {},
   "outputs": [
    {
     "name": "stdout",
     "output_type": "stream",
     "text": [
      "1 \n",
      "1 2 \n",
      "1 2 3 \n",
      "1 2 3 4 \n"
     ]
    }
   ],
   "source": [
    "for i in range(1, 5):\n",
    "    for j in range(1, i + 1):\n",
    "        print(j, end=\" \")\n",
    "    print()"
   ]
  },
  {
   "cell_type": "code",
   "execution_count": null,
   "id": "5c538357-acd7-4e03-9127-824a9e5378d3",
   "metadata": {},
   "outputs": [],
   "source": []
  }
 ],
 "metadata": {
  "kernelspec": {
   "display_name": "Python 3 (ipykernel)",
   "language": "python",
   "name": "python3"
  },
  "language_info": {
   "codemirror_mode": {
    "name": "ipython",
    "version": 3
   },
   "file_extension": ".py",
   "mimetype": "text/x-python",
   "name": "python",
   "nbconvert_exporter": "python",
   "pygments_lexer": "ipython3",
   "version": "3.10.11"
  }
 },
 "nbformat": 4,
 "nbformat_minor": 5
}
