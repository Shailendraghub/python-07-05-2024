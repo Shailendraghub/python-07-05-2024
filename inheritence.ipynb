{
 "cells": [
  {
   "cell_type": "code",
   "execution_count": 3,
   "id": "5c439a05-9c33-4be6-85a0-19da77031faf",
   "metadata": {},
   "outputs": [
    {
     "name": "stdout",
     "output_type": "stream",
     "text": [
      "1\n",
      "2\n"
     ]
    }
   ],
   "source": [
    "class test:\n",
    "    count=0\n",
    "\n",
    "    def __init__(self):\n",
    "        test.count +=1\n",
    "t1=test()\n",
    "print(t1.count)\n",
    "\n",
    "t2=test()\n",
    "print(t2.count)"
   ]
  },
  {
   "cell_type": "code",
   "execution_count": 8,
   "id": "8fe29821-bf38-4032-92a3-36a9f75df185",
   "metadata": {},
   "outputs": [
    {
     "data": {
      "text/plain": [
       "500"
      ]
     },
     "execution_count": 8,
     "metadata": {},
     "output_type": "execute_result"
    }
   ],
   "source": [
    "# base class//super class//parent class\n",
    "class father:\n",
    "    amount=500\n",
    "\n",
    "# derived class//sub class//child class\n",
    "\n",
    "class son(father):\n",
    "    salary=200\n",
    "s1=son()\n",
    "s1.amount\n"
   ]
  },
  {
   "cell_type": "code",
   "execution_count": 26,
   "id": "c6da66ca-cf07-4811-a553-9d34a05bd9f3",
   "metadata": {},
   "outputs": [
    {
     "name": "stdout",
     "output_type": "stream",
     "text": [
      "10\n",
      "ujjwal\n",
      "ujjwal@gmail.com\n"
     ]
    }
   ],
   "source": [
    "class Driver:\n",
    "    def __init__(self,id,name,email):\n",
    "        self.id=id\n",
    "        self.name=name\n",
    "        self.email=email\n",
    "\n",
    "    def info(self):\n",
    "        print(\"printing:\", self.id,self.name,self.email)\n",
    "        \n",
    "d1=Driver(10,\"ujjwal\",\"ujjwal@gmail.com\")\n",
    "print(d1.id)\n",
    "print(d1.name)\n",
    "print(d1.email)"
   ]
  },
  {
   "cell_type": "code",
   "execution_count": 29,
   "id": "46a5e026-f8b5-4673-b514-20af82373dbd",
   "metadata": {},
   "outputs": [
    {
     "name": "stdout",
     "output_type": "stream",
     "text": [
      "20 naina naina@gamil.com 90\n",
      "printing: 20 naina naina@gamil.com\n"
     ]
    }
   ],
   "source": [
    "class Customer(Driver):\n",
    "    def __init__(self,id,name,email,wallet):\n",
    "        super().__init__(id,name,email)\n",
    "        self.wallet=wallet\n",
    "\n",
    "    def cinfo(self):\n",
    "        super().info() #calling parent class functio \n",
    "\n",
    "c1=Customer(20,\"naina\",\"naina@gamil.com\",90)\n",
    "print(c1.id,c1.name,c1.email,c1.wallet)\n",
    "c1.cinfo()\n",
    "    "
   ]
  }
 ],
 "metadata": {
  "kernelspec": {
   "display_name": "Python 3 (ipykernel)",
   "language": "python",
   "name": "python3"
  },
  "language_info": {
   "codemirror_mode": {
    "name": "ipython",
    "version": 3
   },
   "file_extension": ".py",
   "mimetype": "text/x-python",
   "name": "python",
   "nbconvert_exporter": "python",
   "pygments_lexer": "ipython3",
   "version": "3.10.11"
  }
 },
 "nbformat": 4,
 "nbformat_minor": 5
}
