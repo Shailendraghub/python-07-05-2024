{
 "cells": [
  {
   "cell_type": "code",
   "execution_count": 4,
   "id": "9c1a2d76-ebdd-40d9-a8e7-1ef371acf927",
   "metadata": {},
   "outputs": [
    {
     "data": {
      "text/plain": [
       "'legs are 4'"
      ]
     },
     "execution_count": 4,
     "metadata": {},
     "output_type": "execute_result"
    }
   ],
   "source": [
    "from abc import ABC,abstractmethod\n",
    "class mammels:\n",
    "    def legs(self):\n",
    "        return \"legs are 4\"\n",
    "class person(mammels):\n",
    "    def legs(self):\n",
    "        return \"legs are 2\"\n",
    "def info(self):\n",
    "    return \"this is person class\"\n",
    "c1=mammels()\n",
    "c1.legs()"
   ]
  },
  {
   "cell_type": "code",
   "execution_count": 4,
   "id": "f1aef10b-0d3e-499c-ba47-068cc6c8dcd7",
   "metadata": {},
   "outputs": [
    {
     "data": {
      "text/plain": [
       "'legs are 2'"
      ]
     },
     "execution_count": 4,
     "metadata": {},
     "output_type": "execute_result"
    }
   ],
   "source": [
    "from abc import ABC,abstractmethod\n",
    "class mammels:\n",
    "    @abstractmethod\n",
    "    def legs(self):\n",
    "        pass\n",
    "class person(mammels):\n",
    "    def legs(self):\n",
    "        return \"legs are 2\"\n",
    "def info(self):\n",
    "    return \"this is person class\"\n",
    "c1=person()\n",
    "c1.legs()"
   ]
  },
  {
   "cell_type": "code",
   "execution_count": null,
   "id": "e1096375-c571-4d71-b086-1bba561c025f",
   "metadata": {},
   "outputs": [],
   "source": []
  },
  {
   "cell_type": "code",
   "execution_count": null,
   "id": "60890104-4aa8-48a5-ac94-6225cc5c9a9a",
   "metadata": {},
   "outputs": [],
   "source": [
    "#static method decorator and class method decorator \n",
    "#what is decorator \n"
   ]
  }
 ],
 "metadata": {
  "kernelspec": {
   "display_name": "Python 3 (ipykernel)",
   "language": "python",
   "name": "python3"
  },
  "language_info": {
   "codemirror_mode": {
    "name": "ipython",
    "version": 3
   },
   "file_extension": ".py",
   "mimetype": "text/x-python",
   "name": "python",
   "nbconvert_exporter": "python",
   "pygments_lexer": "ipython3",
   "version": "3.10.11"
  }
 },
 "nbformat": 4,
 "nbformat_minor": 5
}
