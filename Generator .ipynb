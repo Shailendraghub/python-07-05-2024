{
 "cells": [
  {
   "cell_type": "code",
   "execution_count": 20,
   "id": "09888e17-e136-4f55-9ded-198c99a1d35f",
   "metadata": {},
   "outputs": [
    {
     "data": {
      "text/plain": [
       "'abc'"
      ]
     },
     "execution_count": 20,
     "metadata": {},
     "output_type": "execute_result"
    }
   ],
   "source": [
    "def func():\n",
    "    yield \"abc\"\n",
    "    yield \"def\"\n",
    "    yield \"ghi\"\n",
    "    print(\"hello\")\n",
    "    yield \"hgh\"\n",
    "x=func()\n",
    "# first way to use generator \n",
    "next(x)"
   ]
  },
  {
   "cell_type": "code",
   "execution_count": 21,
   "id": "6bd32b7b-7d04-4305-bcea-c87327a18983",
   "metadata": {},
   "outputs": [
    {
     "data": {
      "text/plain": [
       "'def'"
      ]
     },
     "execution_count": 21,
     "metadata": {},
     "output_type": "execute_result"
    }
   ],
   "source": [
    "next(x)"
   ]
  },
  {
   "cell_type": "code",
   "execution_count": 22,
   "id": "ed0dcb09-2259-4497-9d02-6ef0edd81244",
   "metadata": {},
   "outputs": [
    {
     "data": {
      "text/plain": [
       "'ghi'"
      ]
     },
     "execution_count": 22,
     "metadata": {},
     "output_type": "execute_result"
    }
   ],
   "source": [
    "#second way to use generator \n",
    "x.__next__()\n"
   ]
  },
  {
   "cell_type": "code",
   "execution_count": 23,
   "id": "9cb56dcc-6877-4ea7-a94a-ce3a5abaa466",
   "metadata": {},
   "outputs": [
    {
     "name": "stdout",
     "output_type": "stream",
     "text": [
      "hello\n"
     ]
    },
    {
     "data": {
      "text/plain": [
       "'hgh'"
      ]
     },
     "execution_count": 23,
     "metadata": {},
     "output_type": "execute_result"
    }
   ],
   "source": [
    "next(x)"
   ]
  },
  {
   "cell_type": "code",
   "execution_count": 30,
   "id": "f98aec92-ba0c-42a7-8256-7130081c0356",
   "metadata": {},
   "outputs": [],
   "source": [
    "def generator(num):\n",
    "    for n in range(1,num):\n",
    "        yield n**3\n",
    "    "
   ]
  },
  {
   "cell_type": "code",
   "execution_count": 31,
   "id": "741bbe52-0e3c-452e-88c3-98e16298c795",
   "metadata": {},
   "outputs": [
    {
     "name": "stdout",
     "output_type": "stream",
     "text": [
      "1\n",
      "8\n",
      "27\n",
      "64\n",
      "125\n",
      "216\n",
      "343\n",
      "512\n",
      "729\n"
     ]
    }
   ],
   "source": [
    "for i in generator(10):\n",
    "    print(i)"
   ]
  },
  {
   "cell_type": "code",
   "execution_count": 33,
   "id": "607da1c2-813d-4cbf-93b5-f8b55bd6abbf",
   "metadata": {},
   "outputs": [
    {
     "name": "stdout",
     "output_type": "stream",
     "text": [
      "inner function 10\n"
     ]
    }
   ],
   "source": [
    "def hello(num):\n",
    "    def inner2():\n",
    "        print(\"inner function\",num)\n",
    "    return inner2\n",
    "x=hello(10)\n",
    "x()\n"
   ]
  },
  {
   "cell_type": "code",
   "execution_count": 35,
   "id": "4fd7e6ce-ad43-4e81-a403-b30e96114677",
   "metadata": {},
   "outputs": [
    {
     "name": "stdout",
     "output_type": "stream",
     "text": [
      "inner function\n",
      "this is test1\n"
     ]
    }
   ],
   "source": [
    "def hello(func):\n",
    "    def inner2():\n",
    "        print(\"inner function\")\n",
    "        func()\n",
    "    return inner2\n",
    "@hello\n",
    "def test1():\n",
    "    print(\"this is test1\")\n",
    "test1()\n"
   ]
  }
 ],
 "metadata": {
  "kernelspec": {
   "display_name": "Python 3 (ipykernel)",
   "language": "python",
   "name": "python3"
  },
  "language_info": {
   "codemirror_mode": {
    "name": "ipython",
    "version": 3
   },
   "file_extension": ".py",
   "mimetype": "text/x-python",
   "name": "python",
   "nbconvert_exporter": "python",
   "pygments_lexer": "ipython3",
   "version": "3.10.11"
  }
 },
 "nbformat": 4,
 "nbformat_minor": 5
}
