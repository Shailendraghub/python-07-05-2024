{
 "cells": [
  {
   "cell_type": "code",
   "execution_count": 7,
   "id": "e4042b3f-827f-4c27-85d4-788db411462c",
   "metadata": {},
   "outputs": [
    {
     "name": "stdout",
     "output_type": "stream",
     "text": [
      "Eid:10 \n",
      " ename: shailendra \n",
      " email: shailendra@gmail.com \n"
     ]
    }
   ],
   "source": [
    "# required argument \n",
    "def employee(eid,ename,email):\n",
    "    print(f\"Eid:{eid} \\n ename: {ename} \\n email: {email} \")\n",
    "employee(10,\"shailendra\",\"shailendra@gmail.com\",)"
   ]
  },
  {
   "cell_type": "code",
   "execution_count": 12,
   "id": "ab758910-94bd-492c-bb9d-c7b379b033e9",
   "metadata": {},
   "outputs": [
    {
     "name": "stdout",
     "output_type": "stream",
     "text": [
      "Eid:shailendra \n",
      " ename: shailendra@gmail.com \n",
      " email: 10 \n"
     ]
    }
   ],
   "source": [
    "# positional argument \n",
    "def employee(eid,ename,email):\n",
    "    print(f\"Eid:{eid} \\n ename: {ename} \\n email: {email} \")\n",
    "employee(\"shailendra\",\"shailendra@gmail.com\",10)"
   ]
  },
  {
   "cell_type": "code",
   "execution_count": 15,
   "id": "7edbf9b5-7c50-454c-b643-6e1766170917",
   "metadata": {},
   "outputs": [
    {
     "name": "stdout",
     "output_type": "stream",
     "text": [
      "Eid:10 \n",
      " ename: shailendra \n",
      " email: shailendra@gmail.com \n"
     ]
    }
   ],
   "source": [
    "# keyword argument \n",
    "def employee(eid,ename,email):\n",
    "    print(f\"Eid:{eid} \\n ename: {ename} \\n email: {email} \")\n",
    "employee(ename=\"shailendra\",email=\"shailendra@gmail.com\",eid=10)\n"
   ]
  },
  {
   "cell_type": "code",
   "execution_count": null,
   "id": "0be04eeb-ef99-4e64-8ba4-863fcd8733d4",
   "metadata": {},
   "outputs": [],
   "source": [
    "# keyword argument \n",
    "def employee(eid,ename,email):\n",
    "    print(f\"Eid:{eid} \\n ename: {ename} \\n email: {email} \")\n",
    "employee(ename=\"shailendra\",email=\"shailendra@gmail.com\",eid=10)\n"
   ]
  },
  {
   "cell_type": "code",
   "execution_count": 20,
   "id": "c17ea3d0-f5cd-4e00-89c2-40170db1443b",
   "metadata": {},
   "outputs": [
    {
     "name": "stdout",
     "output_type": "stream",
     "text": [
      "Eid:25 \n",
      " ename: shailendra \n",
      " email: shailendra@gmail.com \n"
     ]
    }
   ],
   "source": [
    "# keyword+positional argument \n",
    "def employee(eid,ename,email):\n",
    "    print(f\"Eid:{eid} \\n ename: {ename} \\n email: {email} \")\n",
    "employee(25, ename=\"shailendra\",email=\"shailendra@gmail.com\")\n"
   ]
  },
  {
   "cell_type": "code",
   "execution_count": 24,
   "id": "7929519f-9399-43af-a8f2-90e0332402c7",
   "metadata": {},
   "outputs": [
    {
     "name": "stdout",
     "output_type": "stream",
     "text": [
      "Eid:25 \n",
      " ename: shailendra \n",
      " email: shailendraragaex@gmail.com \n"
     ]
    }
   ],
   "source": [
    "# default argument \n",
    "def employee(eid,ename,email=\"shailendra@gmail.com\"):\n",
    "    print(f\"Eid:{eid} \\n ename: {ename} \\n email: {email} \")\n",
    "employee(25, \"shailendra\")\n"
   ]
  },
  {
   "cell_type": "code",
   "execution_count": 28,
   "id": "5e4c5083-4400-4f04-987f-67bdeee13dff",
   "metadata": {},
   "outputs": [
    {
     "name": "stdout",
     "output_type": "stream",
     "text": [
      "('hello', 'shailendra', 1000)\n"
     ]
    }
   ],
   "source": [
    "# variable length argument\n",
    "#tuple format \n",
    "def facebook(*data):\n",
    "    print(data)\n",
    "facebook(\"hello\" ,\"shailendra\",1000)\n"
   ]
  },
  {
   "cell_type": "code",
   "execution_count": 32,
   "id": "c6fc9483-05dd-480c-b2e5-f3968e6a0a7f",
   "metadata": {},
   "outputs": [
    {
     "name": "stdout",
     "output_type": "stream",
     "text": [
      "{'username': 'shailendra'} <class 'dict'>\n"
     ]
    }
   ],
   "source": [
    "# keyword variable length argument\n",
    "#dictoary  format \n",
    "def facebook(**data):\n",
    "    print(data ,type(data))\n",
    "facebook(username=\"shailendra\")\n"
   ]
  },
  {
   "cell_type": "code",
   "execution_count": null,
   "id": "eed90547-d028-4a84-9a2e-84c803978842",
   "metadata": {},
   "outputs": [],
   "source": [
    "#args and kwargs\n",
    "#args =variable lenghth argument with (*)\n",
    "#rgs =variable lenghth argument with (*)"
   ]
  }
 ],
 "metadata": {
  "kernelspec": {
   "display_name": "Python 3 (ipykernel)",
   "language": "python",
   "name": "python3"
  },
  "language_info": {
   "codemirror_mode": {
    "name": "ipython",
    "version": 3
   },
   "file_extension": ".py",
   "mimetype": "text/x-python",
   "name": "python",
   "nbconvert_exporter": "python",
   "pygments_lexer": "ipython3",
   "version": "3.10.11"
  }
 },
 "nbformat": 4,
 "nbformat_minor": 5
}
