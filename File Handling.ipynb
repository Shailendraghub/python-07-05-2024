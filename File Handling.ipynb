{
 "cells": [
  {
   "cell_type": "code",
   "execution_count": 13,
   "id": "3407c60f-4093-491f-8fd1-0a742bcd0d8a",
   "metadata": {},
   "outputs": [
    {
     "name": "stdout",
     "output_type": "stream",
     "text": [
      "hello aman \n",
      "hey\n"
     ]
    }
   ],
   "source": [
    "fileobj=open(\"aman.txt\")\n",
    "x=fileobj.read()\n",
    "fileobj.close()\n",
    "print(x)"
   ]
  },
  {
   "cell_type": "code",
   "execution_count": 11,
   "id": "12cb1ed5-f9cb-4c7f-83b8-80a7cc147f53",
   "metadata": {},
   "outputs": [
    {
     "name": "stdout",
     "output_type": "stream",
     "text": [
      "hello aman\n"
     ]
    }
   ],
   "source": [
    "fileobj=open(\"aman.txt\")\n",
    "x=fileobj.read()\n",
    "fileobj.close()\n",
    "print(x)"
   ]
  },
  {
   "cell_type": "code",
   "execution_count": 15,
   "id": "6e1a55b6-42d8-4565-98db-dbaec4f35e29",
   "metadata": {},
   "outputs": [
    {
     "name": "stdout",
     "output_type": "stream",
     "text": [
      "hello aman \n",
      "hey\n"
     ]
    }
   ],
   "source": [
    "#access mode (r,w)\n",
    "\n",
    "fileobj=open(\"aman.txt\",\"w\")\n",
    "fileobj.write(\"tushar\")\n",
    "fileobj.close()\n",
    "print(x)"
   ]
  },
  {
   "cell_type": "code",
   "execution_count": 16,
   "id": "0c49dac6-bc4f-4479-91a4-d77075b193ff",
   "metadata": {},
   "outputs": [
    {
     "name": "stdout",
     "output_type": "stream",
     "text": [
      "tushar\n"
     ]
    }
   ],
   "source": [
    "#access mode (r,w)\n",
    "\n",
    "fileobj=open(\"aman.txt\",\"r+\")\n",
    "x=fileobj.read()\n",
    "fileobj.write(\"t####\")\n",
    "fileobj.close()\n",
    "print(x)"
   ]
  },
  {
   "cell_type": "code",
   "execution_count": 18,
   "id": "4fce364d-3fba-4db8-85a9-1d0d8c85caaa",
   "metadata": {},
   "outputs": [
    {
     "name": "stdout",
     "output_type": "stream",
     "text": [
      "###rt####\n"
     ]
    }
   ],
   "source": [
    "#access mode (r,w)\n",
    "\n",
    "fileobj=open(\"aman.txt\",\"r+\")\n",
    "fileobj.write(\"$$\")\n",
    "x=fileobj.read()\n",
    "fileobj.close()\n",
    "print(x)"
   ]
  },
  {
   "cell_type": "code",
   "execution_count": 23,
   "id": "0fe0c645-008a-4299-a0b9-e92c1e453ad7",
   "metadata": {},
   "outputs": [
    {
     "name": "stdout",
     "output_type": "stream",
     "text": [
      "\n"
     ]
    }
   ],
   "source": [
    "#access mode (r,w)\n",
    "\n",
    "fileobj=open(\"aman.txt\",\"w+\")\n",
    "fileobj.write(\"$$\")\n",
    "x=fileobj.read()\n",
    "fileobj.close()\n",
    "print(x)"
   ]
  },
  {
   "cell_type": "code",
   "execution_count": 24,
   "id": "b84b1f7e-7093-4d12-888d-181a4b12068d",
   "metadata": {},
   "outputs": [
    {
     "name": "stdout",
     "output_type": "stream",
     "text": [
      "\n"
     ]
    }
   ],
   "source": [
    "#access mode (r,w)\n",
    "\n",
    "fileobj=open(\"aman.txt\",\"w+\")\n",
    "fileobj.write(\"hello\")\n",
    "x=fileobj.read()\n",
    "fileobj.close()\n",
    "print(x)"
   ]
  },
  {
   "cell_type": "code",
   "execution_count": null,
   "id": "dd5bc37e-7c95-4965-94b8-3cd9cacd7947",
   "metadata": {},
   "outputs": [],
   "source": [
    "\n",
    "fileobj=open(\"aman.txt\",\"w+\")\n",
    "fileobj.write(\"hello\")\n",
    "x=fileobj.read()\n",
    "fileobj.close()\n",
    "print(x)"
   ]
  },
  {
   "cell_type": "code",
   "execution_count": 27,
   "id": "9f8d6c39-bc44-4bb9-b28a-34574bd7f9ff",
   "metadata": {},
   "outputs": [
    {
     "name": "stdout",
     "output_type": "stream",
     "text": [
      "0\n",
      "write 4\n",
      "ur\n"
     ]
    }
   ],
   "source": [
    "\n",
    "fileobj=open(\"aman.txt\",\"w+\")\n",
    "print(fileobj.tell() )\n",
    "fileobj.write(\"jaipur\")\n",
    "fileobj.seek(4)\n",
    "print(\"write\",fileobj.tell() )\n",
    "x=fileobj.read()\n",
    "fileobj.close()\n",
    "print(x)"
   ]
  },
  {
   "cell_type": "code",
   "execution_count": 33,
   "id": "62cfa0d4-3380-46d7-ad06-3827cddb2724",
   "metadata": {},
   "outputs": [
    {
     "name": "stdout",
     "output_type": "stream",
     "text": [
      "jaipur\n",
      "\n",
      "hello\n",
      "\n",
      "hey\n",
      "\n"
     ]
    }
   ],
   "source": [
    "with open(\"aman.txt\",\"r\") as fileobj:\n",
    "    print( fileobj.readline() )\n",
    "    print( fileobj.readline() )\n",
    "    print( fileobj.readline() )"
   ]
  },
  {
   "cell_type": "code",
   "execution_count": 35,
   "id": "4f35ebb7-d73f-444f-86cd-26e44a5bf397",
   "metadata": {},
   "outputs": [
    {
     "name": "stdout",
     "output_type": "stream",
     "text": [
      "jaipur\n",
      "hello\n",
      "hey\n",
      "rajasthan\n"
     ]
    }
   ],
   "source": [
    "with open(\"aman.txt\",\"r\") as fileobj:\n",
    "    for line in fileobj.readlines():\n",
    "        print( line.strip() )"
   ]
  },
  {
   "cell_type": "code",
   "execution_count": null,
   "id": "5b31d176-1bb9-4d50-bbcc-89fa7e08687f",
   "metadata": {},
   "outputs": [],
   "source": [
    "#csv\n",
    "#commma seprated values\n",
    "# id ,name,email\n",
    "# id$name$email -(DsV FILES)"
   ]
  },
  {
   "cell_type": "code",
   "execution_count": 36,
   "id": "baa7e2de-a939-4930-98e0-776950e36d7f",
   "metadata": {},
   "outputs": [
    {
     "name": "stdout",
     "output_type": "stream",
     "text": [
      "1,aman,aman@gmail.com\n",
      "2,shailendra,shailendra@gmail.com\n"
     ]
    }
   ],
   "source": [
    "fileobj=open(\"aman.txt\")\n",
    "x=fileobj.read()\n",
    "fileobj.close()\n",
    "print(x)"
   ]
  }
 ],
 "metadata": {
  "kernelspec": {
   "display_name": "Python 3 (ipykernel)",
   "language": "python",
   "name": "python3"
  },
  "language_info": {
   "codemirror_mode": {
    "name": "ipython",
    "version": 3
   },
   "file_extension": ".py",
   "mimetype": "text/x-python",
   "name": "python",
   "nbconvert_exporter": "python",
   "pygments_lexer": "ipython3",
   "version": "3.10.11"
  }
 },
 "nbformat": 4,
 "nbformat_minor": 5
}
