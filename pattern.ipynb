{
 "cells": [
  {
   "cell_type": "code",
   "execution_count": 44,
   "id": "38e510d4-e085-4a74-b044-ddcb2e24b3fd",
   "metadata": {},
   "outputs": [
    {
     "name": "stdout",
     "output_type": "stream",
     "text": [
      "* * * * *  \n",
      "*       *  \n",
      "* * * * *  \n",
      "*       *  \n",
      "*       *  \n"
     ]
    }
   ],
   "source": [
    "for i in range(1, 6):\n",
    "    for j in range(1, 6):\n",
    "        if i == 1 or j == 1 or i == 3 or j == 5:\n",
    "            print(\"*\", end=\" \")\n",
    "        else:\n",
    "            print(\" \", end=\" \")\n",
    "    print(\" \")\n"
   ]
  },
  {
   "cell_type": "code",
   "execution_count": null,
   "id": "f55479c4-0709-4b67-8e19-49456b48200b",
   "metadata": {},
   "outputs": [],
   "source": []
  },
  {
   "cell_type": "code",
   "execution_count": 49,
   "id": "f755ad72-f974-480c-8224-8c0ce62a68e7",
   "metadata": {},
   "outputs": [
    {
     "name": "stdout",
     "output_type": "stream",
     "text": [
      "1 2 3 4 *  \n",
      "5 6 7 * *  \n",
      "8 9 * * *  \n"
     ]
    }
   ],
   "source": [
    "num = 1\n",
    "for i in range(3):\n",
    "    for j in range(4 - i):\n",
    "        print(num, end=\" \")\n",
    "        num += 1\n",
    "    for k in range(i + 1):\n",
    "        print(\"*\", end=\" \")\n",
    "    print(\" \")\n"
   ]
  },
  {
   "cell_type": "code",
   "execution_count": 54,
   "id": "2e2fb671-97ec-43c0-a5ff-b3870f0fa7a5",
   "metadata": {},
   "outputs": [
    {
     "name": "stdout",
     "output_type": "stream",
     "text": [
      "A B C D 1  \n",
      "A B C 1 2  \n",
      "A B 1 2 3  \n",
      "A 1 2 3 4  \n"
     ]
    }
   ],
   "source": [
    "for i in range(4):\n",
    "    for j in range(4 - i):\n",
    "        print(chr(65 + j), end=\" \") \n",
    "    for k in range(i + 1):\n",
    "        print(k + 1, end=\" \")  \n",
    "    print(\" \")"
   ]
  },
  {
   "cell_type": "code",
   "execution_count": 58,
   "id": "266e1717-197a-4e66-aaff-95932cfdba2e",
   "metadata": {},
   "outputs": [
    {
     "name": "stdout",
     "output_type": "stream",
     "text": [
      "A B C D 11 \n",
      "E F G 12 13 \n",
      "H I 14 15 16 \n",
      "J 17 18 19 20 \n"
     ]
    }
   ],
   "source": [
    "start_char = 65\n",
    "start_num = 1\n",
    "\n",
    "for i in range(4):\n",
    "    for j in range(4 - i):\n",
    "        print(chr(start_char), end=\" \")\n",
    "        start_char += 1\n",
    "    for k in range(i + 1):\n",
    "        print(start_num, end=\" \")\n",
    "        start_num += 1\n",
    "    print()\n",
    "    "
   ]
  },
  {
   "cell_type": "code",
   "execution_count": 59,
   "id": "68bf6d12-4ef6-4e68-b101-5160d323e8b6",
   "metadata": {},
   "outputs": [
    {
     "name": "stdout",
     "output_type": "stream",
     "text": [
      "   A  \n",
      "  B C  \n",
      " D E F  \n",
      "G H I J  \n"
     ]
    }
   ],
   "source": [
    "start_char = 65  # ASCII value for 'A'\n",
    "\n",
    "for i in range(4):\n",
    "    print(\" \" * (3 - i), end=\"\")  # Print spaces to align characters\n",
    "    for j in range(i + 1):\n",
    "        print(chr(start_char), end=\" \")\n",
    "        start_char += 1\n",
    "    print(\" \")"
   ]
  }
 ],
 "metadata": {
  "kernelspec": {
   "display_name": "Python 3 (ipykernel)",
   "language": "python",
   "name": "python3"
  },
  "language_info": {
   "codemirror_mode": {
    "name": "ipython",
    "version": 3
   },
   "file_extension": ".py",
   "mimetype": "text/x-python",
   "name": "python",
   "nbconvert_exporter": "python",
   "pygments_lexer": "ipython3",
   "version": "3.10.11"
  }
 },
 "nbformat": 4,
 "nbformat_minor": 5
}
