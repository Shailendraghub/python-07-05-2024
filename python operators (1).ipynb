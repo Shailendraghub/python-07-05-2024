{
 "cells": [
  {
   "cell_type": "code",
   "execution_count": 13,
   "id": "33653c98-56cb-49cc-8ff9-014c511e9d5e",
   "metadata": {},
   "outputs": [
    {
     "name": "stdout",
     "output_type": "stream",
     "text": [
      "15\n",
      "5\n",
      "50\n",
      "2.0\n",
      "0\n",
      "100000\n",
      "2\n"
     ]
    }
   ],
   "source": [
    "#airhmatic \n",
    "print(10+5)\n",
    "print(10-5)\n",
    "print(10*5)\n",
    "print(10/5)\n",
    "print(10%5)\n",
    "print(10 ** 5)\n",
    "print(10//4)"
   ]
  },
  {
   "cell_type": "code",
   "execution_count": 18,
   "id": "2bb49e88-79d9-4cd3-b0ff-485b284c31a9",
   "metadata": {},
   "outputs": [
    {
     "name": "stdout",
     "output_type": "stream",
     "text": [
      "True\n",
      "False\n",
      "True\n",
      "True\n",
      "True\n",
      "True\n"
     ]
    }
   ],
   "source": [
    "#comparison \n",
    "print(2<5)\n",
    "print(2>5)\n",
    "print(2<=2)\n",
    "print(4>=4)\n",
    "print(5==5)\n",
    "print(6!=5)"
   ]
  },
  {
   "cell_type": "code",
   "execution_count": 21,
   "id": "22901aa0-3059-4a96-8f0f-1c25fa4dd36f",
   "metadata": {},
   "outputs": [
    {
     "name": "stdout",
     "output_type": "stream",
     "text": [
      "False\n",
      "True\n"
     ]
    }
   ],
   "source": [
    "#logical operator\n",
    "print(2<5 and 5<5)\n",
    "print(5<5 or 5==5)"
   ]
  },
  {
   "cell_type": "code",
   "execution_count": 26,
   "id": "ce688feb-8ffb-4cda-a4c1-70cbbf57682e",
   "metadata": {},
   "outputs": [
    {
     "name": "stdout",
     "output_type": "stream",
     "text": [
      "True\n",
      "True\n"
     ]
    }
   ],
   "source": [
    "#identity operator\n",
    "x= [\"software\", \"services\"]\n",
    "y= [\"spftware\", \"services\"]\n",
    "z=x\n",
    "\n",
    "print(x is z)\n",
    "print(y is not z)"
   ]
  },
  {
   "cell_type": "code",
   "execution_count": 43,
   "id": "6ac805c4-1ac6-4ba2-9e1d-642405e864f3",
   "metadata": {},
   "outputs": [
    {
     "name": "stdout",
     "output_type": "stream",
     "text": [
      "True\n",
      "True\n"
     ]
    }
   ],
   "source": [
    "#membership operator \n",
    "city =[\"jaipur\"]\n",
    "print(\"jaip\" in \"jaipur\")\n",
    "print(\"purr\" not in \"jaipur\")"
   ]
  },
  {
   "cell_type": "code",
   "execution_count": 38,
   "id": "1a0d3ba4-c1a4-4860-80a0-fa764da660a4",
   "metadata": {},
   "outputs": [
    {
     "name": "stdout",
     "output_type": "stream",
     "text": [
      "5\n",
      "13\n",
      "8\n"
     ]
    }
   ],
   "source": [
    "#bitwise operator \n",
    "print(13&5)\n",
    "print(13|5)\n",
    "print(13^5)"
   ]
  }
 ],
 "metadata": {
  "kernelspec": {
   "display_name": "Python 3 (ipykernel)",
   "language": "python",
   "name": "python3"
  },
  "language_info": {
   "codemirror_mode": {
    "name": "ipython",
    "version": 3
   },
   "file_extension": ".py",
   "mimetype": "text/x-python",
   "name": "python",
   "nbconvert_exporter": "python",
   "pygments_lexer": "ipython3",
   "version": "3.10.11"
  }
 },
 "nbformat": 4,
 "nbformat_minor": 5
}
