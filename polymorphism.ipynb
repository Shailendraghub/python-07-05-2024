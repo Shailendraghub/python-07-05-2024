{
 "cells": [
  {
   "cell_type": "code",
   "execution_count": 1,
   "id": "1a6a662f-35e8-4bf4-8158-97c4ff8dd45e",
   "metadata": {},
   "outputs": [
    {
     "data": {
      "text/plain": [
       "15"
      ]
     },
     "execution_count": 1,
     "metadata": {},
     "output_type": "execute_result"
    }
   ],
   "source": [
    "#polymorphism = poly=many , phism=forms\n",
    "#like \n",
    "10+5"
   ]
  },
  {
   "cell_type": "code",
   "execution_count": 2,
   "id": "7537d35c-ca34-4936-ab21-644a17b4cb97",
   "metadata": {},
   "outputs": [
    {
     "data": {
      "text/plain": [
       "'ab'"
      ]
     },
     "execution_count": 2,
     "metadata": {},
     "output_type": "execute_result"
    }
   ],
   "source": [
    "\"a\" +\"b\"\n",
    "\n"
   ]
  },
  {
   "cell_type": "code",
   "execution_count": null,
   "id": "d44b76bf-c318-4364-8704-1ef205fa14cc",
   "metadata": {},
   "outputs": [],
   "source": [
    "# so this + work in many forms ."
   ]
  },
  {
   "cell_type": "markdown",
   "id": "84b3f2f5-32d8-431d-9f1a-40e195db31c5",
   "metadata": {},
   "source": [
    "# method overloading and method overriding \n",
    "# python does not support method overloading \n"
   ]
  },
  {
   "cell_type": "code",
   "execution_count": 7,
   "id": "bc93224a-352b-469a-a426-b353c8f506b3",
   "metadata": {},
   "outputs": [],
   "source": [
    "class parent:\n",
    "    def info(eid):\n",
    "        print(\"this is parent class\")\n",
    "        \n",
    "class child(parent):\n",
    "    def info(eid):\n",
    "        print(\"this is child class\")"
   ]
  },
  {
   "cell_type": "code",
   "execution_count": 8,
   "id": "02c96d77-d668-4eca-8d95-11163036c8fb",
   "metadata": {},
   "outputs": [
    {
     "name": "stdout",
     "output_type": "stream",
     "text": [
      "this is child class\n"
     ]
    }
   ],
   "source": [
    "c1=child()\n",
    "c1.info()"
   ]
  },
  {
   "cell_type": "markdown",
   "id": "f44b9e02-12e2-4cc5-b490-a458089053d1",
   "metadata": {},
   "source": [
    "# python support operator overloading ,python me polymorphism ko achive krne ke 2 ways h- method overloading or operator overloading "
   ]
  },
  {
   "cell_type": "code",
   "execution_count": 24,
   "id": "2e83be40-cb35-492a-a93e-17380369beda",
   "metadata": {},
   "outputs": [
    {
     "name": "stdout",
     "output_type": "stream",
     "text": [
      "raj class has 10 20\n",
      "raj class has 20 23\n"
     ]
    },
    {
     "data": {
      "text/plain": [
       "30"
      ]
     },
     "execution_count": 24,
     "metadata": {},
     "output_type": "execute_result"
    }
   ],
   "source": [
    "class Raj:\n",
    "    def __init__(self,num1,num2):\n",
    "        self.num1=num1\n",
    "        self.num2=num2\n",
    "    # object ko represent krne ke liye repr function \n",
    "    def __repr__(self):\n",
    "        return f\"raj class has {self.num1} {self.num2}\"\n",
    "\n",
    "    #self=r1  obj=r2\n",
    "    def __add__(self,obj):\n",
    "        x1=self.num1 + obj.num1\n",
    "        return x1\n",
    "r1=Raj(10,20)\n",
    "r2=Raj(20,23)\n",
    "print(r1)\n",
    "print(r2)\n",
    "#r1__add__(r2)//background me ye chalega isliye add method chalaya \n",
    "r1+r2"
   ]
  },
  {
   "cell_type": "code",
   "execution_count": 39,
   "id": "80370a99-d757-42b2-9fb6-a4e3ffe9b7fb",
   "metadata": {},
   "outputs": [
    {
     "name": "stdout",
     "output_type": "stream",
     "text": [
      "raj class has 10 20\n",
      "raj class has 5 30\n"
     ]
    },
    {
     "data": {
      "text/plain": [
       "'false'"
      ]
     },
     "execution_count": 39,
     "metadata": {},
     "output_type": "execute_result"
    }
   ],
   "source": [
    "class greater:\n",
    "    def __init__(self,num1,num2):\n",
    "        self.num1=num1\n",
    "        self.num2=num2\n",
    "        \n",
    "    def __repr__(self):\n",
    "        return f\"raj class has {self.num1} {self.num2}\"\n",
    "        \n",
    "    def __gt__(self,obj):\n",
    "        if self.num1 < obj.num1:\n",
    "            return \"true\"\n",
    "        else:\n",
    "            return \"false\"\n",
    "r1=greater(10,20)\n",
    "r2=greater(5,30)\n",
    "print(r1)\n",
    "print(r2)\n",
    "r1>r2"
   ]
  },
  {
   "cell_type": "code",
   "execution_count": null,
   "id": "fd2d8966-479e-4a9e-953d-4a29d0c12d3d",
   "metadata": {},
   "outputs": [],
   "source": [
    "#what is abstraction \n",
    "#what is encapsulation"
   ]
  }
 ],
 "metadata": {
  "kernelspec": {
   "display_name": "Python 3 (ipykernel)",
   "language": "python",
   "name": "python3"
  },
  "language_info": {
   "codemirror_mode": {
    "name": "ipython",
    "version": 3
   },
   "file_extension": ".py",
   "mimetype": "text/x-python",
   "name": "python",
   "nbconvert_exporter": "python",
   "pygments_lexer": "ipython3",
   "version": "3.10.11"
  }
 },
 "nbformat": 4,
 "nbformat_minor": 5
}
