{
 "cells": [
  {
   "cell_type": "code",
   "execution_count": 8,
   "id": "a2d55099-809e-4bc3-9d86-54e3717ab850",
   "metadata": {},
   "outputs": [
    {
     "data": {
      "text/plain": [
       "dollar class has amount 1600"
      ]
     },
     "execution_count": 8,
     "metadata": {},
     "output_type": "execute_result"
    }
   ],
   "source": [
    "class dollar:\n",
    "    def __init__(Self,amount):\n",
    "        Self.amount=amount\n",
    "    def __repr__(Self):\n",
    "        return f\"dollar class has amount {Self.amount}\"\n",
    "    @classmethod\n",
    "    def ConvertAmount(cls,money):\n",
    "        return cls (money*20)\n",
    "\n",
    "d1=dollar(10)\n",
    "d1.ConvertAmount(80)"
   ]
  },
  {
   "cell_type": "code",
   "execution_count": 10,
   "id": "8d8de43f-01cd-41a5-a154-d373619afa91",
   "metadata": {},
   "outputs": [
    {
     "data": {
      "text/plain": [
       "euro class has 2000"
      ]
     },
     "execution_count": 10,
     "metadata": {},
     "output_type": "execute_result"
    }
   ],
   "source": [
    "class euro(dollar):\n",
    "    def __init__(self,amount):\n",
    "        super().__init__(amount)\n",
    "    def __repr__(self):\n",
    "        return f\"euro class has {self.amount}\"\n",
    "e1=euro(10)\n",
    "e1.ConvertAmount(100)"
   ]
  }
 ],
 "metadata": {
  "kernelspec": {
   "display_name": "Python 3 (ipykernel)",
   "language": "python",
   "name": "python3"
  },
  "language_info": {
   "codemirror_mode": {
    "name": "ipython",
    "version": 3
   },
   "file_extension": ".py",
   "mimetype": "text/x-python",
   "name": "python",
   "nbconvert_exporter": "python",
   "pygments_lexer": "ipython3",
   "version": "3.10.11"
  }
 },
 "nbformat": 4,
 "nbformat_minor": 5
}
