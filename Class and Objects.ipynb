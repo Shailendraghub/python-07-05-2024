{
 "cells": [
  {
   "cell_type": "code",
   "execution_count": 4,
   "id": "a729b33a-4786-47a0-a05f-892fad5930e8",
   "metadata": {},
   "outputs": [],
   "source": [
    "#color or room-ek aaisa variable jisko class or object dono access kr skte h \n",
    "class House:\n",
    "    color=\"white\"\n",
    "    room=4\n",
    "\n",
    "    def house_info(self):\n",
    "        print(\"hello :\", self.color,self.room)"
   ]
  },
  {
   "cell_type": "code",
   "execution_count": 5,
   "id": "3c10715e-5793-4c29-855c-35e9d48b8e83",
   "metadata": {},
   "outputs": [
    {
     "name": "stdout",
     "output_type": "stream",
     "text": [
      "hello : white 4\n"
     ]
    }
   ],
   "source": [
    "h1=House()\n",
    "h1.house_info()"
   ]
  },
  {
   "cell_type": "code",
   "execution_count": 10,
   "id": "a8131a0f-f5de-4224-bf7e-10d6ad017117",
   "metadata": {},
   "outputs": [],
   "source": [
    "#constructor\n",
    "class House:\n",
    "    def __init__(self):\n",
    "        print(\"hey user\")\n",
    "    \n",
    "    "
   ]
  },
  {
   "cell_type": "code",
   "execution_count": 11,
   "id": "c1faf5e4-9172-4d5d-93a2-92de183f1143",
   "metadata": {},
   "outputs": [
    {
     "name": "stdout",
     "output_type": "stream",
     "text": [
      "hey user\n"
     ]
    }
   ],
   "source": [
    "h1=House()"
   ]
  }
 ],
 "metadata": {
  "kernelspec": {
   "display_name": "Python 3 (ipykernel)",
   "language": "python",
   "name": "python3"
  },
  "language_info": {
   "codemirror_mode": {
    "name": "ipython",
    "version": 3
   },
   "file_extension": ".py",
   "mimetype": "text/x-python",
   "name": "python",
   "nbconvert_exporter": "python",
   "pygments_lexer": "ipython3",
   "version": "3.10.11"
  }
 },
 "nbformat": 4,
 "nbformat_minor": 5
}
