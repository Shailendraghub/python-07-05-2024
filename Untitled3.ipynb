{
 "cells": [
  {
   "cell_type": "code",
   "execution_count": 7,
   "id": "087db1c7-dc3e-4937-809b-23f92009fc38",
   "metadata": {},
   "outputs": [
    {
     "name": "stdout",
     "output_type": "stream",
     "text": [
      "not valid\n"
     ]
    }
   ],
   "source": [
    "x=19\n",
    "y=18\n",
    "if(x>10 and y>18):\n",
    "    print(\"age is valid\")\n",
    "else:\n",
    "    print(\"not valid\")"
   ]
  },
  {
   "cell_type": "code",
   "execution_count": 24,
   "id": "5f9f5d8f-a1ad-4975-ac04-b41c909d89c5",
   "metadata": {},
   "outputs": [
    {
     "name": "stdout",
     "output_type": "stream",
     "text": [
      "z is min\n"
     ]
    }
   ],
   "source": [
    "x=20\n",
    "y=10\n",
    "z=5\n",
    "if(x<=y and x<=z):\n",
    "    print(\"x is min\")\n",
    "elif(y<=z and y<=x):\n",
    "                print(\"y is min\")\n",
    "else:\n",
    "    print(\"z is min\")\n",
    "                "
   ]
  },
  {
   "cell_type": "code",
   "execution_count": 37,
   "id": "21cacf49-e6fb-4290-abb1-b0508ca61f03",
   "metadata": {},
   "outputs": [
    {
     "name": "stdout",
     "output_type": "stream",
     "text": [
      "berelent\n"
     ]
    }
   ],
   "source": [
    "x=97\n",
    "if(60<=x<75):\n",
    "    print(\"average\")\n",
    "elif(75<=x<85):\n",
    "    print(\"gooooooooooooooood\")\n",
    "elif(85<=x<95):\n",
    "    print(\"exellent\")\n",
    "elif(x<60):\n",
    "    print(\"fail\")\n",
    "else:\n",
    "    print(\"berelent\")"
   ]
  },
  {
   "cell_type": "code",
   "execution_count": 40,
   "id": "1a0c50e6-70a0-419a-b53e-20f8b4a34987",
   "metadata": {},
   "outputs": [
    {
     "name": "stdout",
     "output_type": "stream",
     "text": [
      "6 is divisible\n"
     ]
    }
   ],
   "source": [
    "x=18\n",
    "if(x%2 == 0 and x%3 == 0):\n",
    "    print(\"6 is divisible\")\n",
    "else:\n",
    "    print(\"6 is not divisible\")"
   ]
  },
  {
   "cell_type": "code",
   "execution_count": 48,
   "id": "a964b558-4edc-4eeb-9946-8efc494c7dd9",
   "metadata": {},
   "outputs": [
    {
     "ename": "IndentationError",
     "evalue": "expected an indented block after 'if' statement on line 2 (187743010.py, line 3)",
     "output_type": "error",
     "traceback": [
      "\u001b[1;36m  Cell \u001b[1;32mIn[48], line 3\u001b[1;36m\u001b[0m\n\u001b[1;33m    print(\"jan\")\u001b[0m\n\u001b[1;37m    ^\u001b[0m\n\u001b[1;31mIndentationError\u001b[0m\u001b[1;31m:\u001b[0m expected an indented block after 'if' statement on line 2\n"
     ]
    }
   ],
   "source": [
    "x=3\n",
    "if(x==1):\n",
    "    print(\"jan\")\n",
    "elif(x==2):\n",
    "    print(\"Feb\")\n",
    "elif(x==3):\n",
    "    print(\"march\")\n",
    "elif(x==4):\n",
    "    print(\"april\")\n",
    "    elif(x==5):\n",
    "    print(\"may\")\n",
    "    elif(x==6):\n",
    "    print(\"june\")\n",
    "    elif(x==7):\n",
    "    print(\"july\")\n",
    "    elif(x==8):\n",
    "    print(\"august\")\n",
    "    elif(x==9):\n",
    "    print(\"september\")\n",
    "    elif(x==10):\n",
    "    print(\"oct\")\n",
    "    elif(x==11):\n",
    "    print(\"nov\")\n",
    "    elif(x==12):\n",
    "    print(\"dec\")\n",
    "    else:\n",
    "    print(\"invalid\")"
   ]
  }
 ],
 "metadata": {
  "kernelspec": {
   "display_name": "Python 3 (ipykernel)",
   "language": "python",
   "name": "python3"
  },
  "language_info": {
   "codemirror_mode": {
    "name": "ipython",
    "version": 3
   },
   "file_extension": ".py",
   "mimetype": "text/x-python",
   "name": "python",
   "nbconvert_exporter": "python",
   "pygments_lexer": "ipython3",
   "version": "3.10.11"
  }
 },
 "nbformat": 4,
 "nbformat_minor": 5
}
